{
  "cells": [
    {
      "cell_type": "code",
      "execution_count": null,
      "metadata": {
        "id": "vwBsZdtAjqjc"
      },
      "outputs": [],
      "source": [
        "import json\n",
        "import pandas as pd\n",
        "import ast\n",
        "import csv\n",
        "from sklearn.preprocessing import LabelEncoder\n",
        "from torch.utils.data import Dataset, DataLoader\n",
        "import torch\n",
        "from transformers import BertTokenizer, BertForSequenceClassification, AdamW\n",
        "from transformers import get_scheduler\n",
        "from tqdm import tqdm"
      ]
    },
    {
      "cell_type": "code",
      "execution_count": null,
      "metadata": {
        "colab": {
          "base_uri": "https://localhost:8080/"
        },
        "id": "dYLEmvUfQb0z",
        "outputId": "e82f5b4e-711b-48cf-e9de-ccb8b094b7b3"
      },
      "outputs": [
        {
          "output_type": "stream",
          "name": "stdout",
          "text": [
            "/content\n"
          ]
        }
      ],
      "source": [
        "%cd /content"
      ]
    },
    {
      "cell_type": "code",
      "execution_count": null,
      "metadata": {
        "colab": {
          "base_uri": "https://localhost:8080/"
        },
        "id": "RUbLzCYLPEnq",
        "outputId": "cb935ba7-dfbf-4a72-c959-a36ee32095ff"
      },
      "outputs": [
        {
          "name": "stdout",
          "output_type": "stream",
          "text": [
            "rm: cannot remove '/content/ML-Project---bioBERT': No such file or directory\n"
          ]
        }
      ],
      "source": [
        "!rm -r /content/ML-Project---bioBERT"
      ]
    },
    {
      "cell_type": "code",
      "execution_count": null,
      "metadata": {
        "colab": {
          "base_uri": "https://localhost:8080/"
        },
        "id": "TPeFYqUGOoxe",
        "outputId": "9a0e2fc5-9a3e-4aef-9b3e-7628fb8c8aeb"
      },
      "outputs": [
        {
          "output_type": "stream",
          "name": "stdout",
          "text": [
            "Cloning into 'ML-Project---bioBERT'...\n",
            "remote: Enumerating objects: 166, done.\u001b[K\n",
            "remote: Counting objects: 100% (166/166), done.\u001b[K\n",
            "remote: Compressing objects: 100% (131/131), done.\u001b[K\n",
            "remote: Total 166 (delta 55), reused 130 (delta 31), pack-reused 0 (from 0)\u001b[K\n",
            "Receiving objects: 100% (166/166), 34.23 MiB | 8.48 MiB/s, done.\n",
            "Resolving deltas: 100% (55/55), done.\n"
          ]
        }
      ],
      "source": [
        "!git clone https://github.com/excellencior/ML-Project---bioBERT.git"
      ]
    },
    {
      "cell_type": "markdown",
      "metadata": {
        "id": "d8EtKaDTTyMJ"
      },
      "source": [
        "# Dataset Processing"
      ]
    },
    {
      "cell_type": "markdown",
      "metadata": {
        "id": "_0yNU_5VJJEt"
      },
      "source": []
    },
    {
      "cell_type": "code",
      "execution_count": null,
      "metadata": {
        "colab": {
          "base_uri": "https://localhost:8080/"
        },
        "id": "ellU17dgSvs7",
        "outputId": "7f9cacb8-b220-48ff-d38d-1386258b935a"
      },
      "outputs": [
        {
          "output_type": "stream",
          "name": "stdout",
          "text": [
            "--2024-12-17 12:42:17--  https://huggingface.co/datasets/aai530-group6/ddxplus/resolve/main/train.csv\n",
            "Resolving huggingface.co (huggingface.co)... 3.165.160.12, 3.165.160.61, 3.165.160.11, ...\n",
            "Connecting to huggingface.co (huggingface.co)|3.165.160.12|:443... connected.\n",
            "HTTP request sent, awaiting response... 302 Found\n",
            "Location: https://cdn-lfs-us-1.hf.co/repos/3d/bf/3dbf1ec86c02d693ed39ac3d592b3fd0ea3c9e85890918306b3db431c821f0f7/93933e9a9a7a00d618a931deda7767485af299fe4635bf189a7c63b510e8b172?response-content-disposition=inline%3B+filename*%3DUTF-8%27%27train.csv%3B+filename%3D%22train.csv%22%3B&response-content-type=text%2Fcsv&Expires=1734698537&Policy=eyJTdGF0ZW1lbnQiOlt7IkNvbmRpdGlvbiI6eyJEYXRlTGVzc1RoYW4iOnsiQVdTOkVwb2NoVGltZSI6MTczNDY5ODUzN319LCJSZXNvdXJjZSI6Imh0dHBzOi8vY2RuLWxmcy11cy0xLmhmLmNvL3JlcG9zLzNkL2JmLzNkYmYxZWM4NmMwMmQ2OTNlZDM5YWMzZDU5MmIzZmQwZWEzYzllODU4OTA5MTgzMDZiM2RiNDMxYzgyMWYwZjcvOTM5MzNlOWE5YTdhMDBkNjE4YTkzMWRlZGE3NzY3NDg1YWYyOTlmZTQ2MzViZjE4OWE3YzYzYjUxMGU4YjE3Mj9yZXNwb25zZS1jb250ZW50LWRpc3Bvc2l0aW9uPSomcmVzcG9uc2UtY29udGVudC10eXBlPSoifV19&Signature=H49hkacrxBKInByXJbO%7EBfnSgsJXDFLlDOUhHT2q8fqPxwGOmSy0pdE%7EQqLzNdHo%7EZUU-mrJQZA%7EMfbxMegGTGTOKvxx2ZKVpMobDvIibjwELOe5PyNcvMIkNi3D48s0QNNclgLMJC4st5ks3Nu%7EUC-5V7-yuvwPbjAVPo5XbOfiGhYEfHAT3bGOUtCBhPkFJjHq6pMbKebp-n3uom82SoFLHfayyK218pR%7E0MC4e%7EZZBxDvd9FZ6GH2-MbNPFRQ7kpsd5QjYu00QaZCOJ1HTREI7D07yKUvTSRZfD6-IGpWkTVI5yC9-llQgMvHLzpkqf-J86J9EnmFxnxgNsH7jw__&Key-Pair-Id=K24J24Z295AEI9 [following]\n",
            "--2024-12-17 12:42:17--  https://cdn-lfs-us-1.hf.co/repos/3d/bf/3dbf1ec86c02d693ed39ac3d592b3fd0ea3c9e85890918306b3db431c821f0f7/93933e9a9a7a00d618a931deda7767485af299fe4635bf189a7c63b510e8b172?response-content-disposition=inline%3B+filename*%3DUTF-8%27%27train.csv%3B+filename%3D%22train.csv%22%3B&response-content-type=text%2Fcsv&Expires=1734698537&Policy=eyJTdGF0ZW1lbnQiOlt7IkNvbmRpdGlvbiI6eyJEYXRlTGVzc1RoYW4iOnsiQVdTOkVwb2NoVGltZSI6MTczNDY5ODUzN319LCJSZXNvdXJjZSI6Imh0dHBzOi8vY2RuLWxmcy11cy0xLmhmLmNvL3JlcG9zLzNkL2JmLzNkYmYxZWM4NmMwMmQ2OTNlZDM5YWMzZDU5MmIzZmQwZWEzYzllODU4OTA5MTgzMDZiM2RiNDMxYzgyMWYwZjcvOTM5MzNlOWE5YTdhMDBkNjE4YTkzMWRlZGE3NzY3NDg1YWYyOTlmZTQ2MzViZjE4OWE3YzYzYjUxMGU4YjE3Mj9yZXNwb25zZS1jb250ZW50LWRpc3Bvc2l0aW9uPSomcmVzcG9uc2UtY29udGVudC10eXBlPSoifV19&Signature=H49hkacrxBKInByXJbO%7EBfnSgsJXDFLlDOUhHT2q8fqPxwGOmSy0pdE%7EQqLzNdHo%7EZUU-mrJQZA%7EMfbxMegGTGTOKvxx2ZKVpMobDvIibjwELOe5PyNcvMIkNi3D48s0QNNclgLMJC4st5ks3Nu%7EUC-5V7-yuvwPbjAVPo5XbOfiGhYEfHAT3bGOUtCBhPkFJjHq6pMbKebp-n3uom82SoFLHfayyK218pR%7E0MC4e%7EZZBxDvd9FZ6GH2-MbNPFRQ7kpsd5QjYu00QaZCOJ1HTREI7D07yKUvTSRZfD6-IGpWkTVI5yC9-llQgMvHLzpkqf-J86J9EnmFxnxgNsH7jw__&Key-Pair-Id=K24J24Z295AEI9\n",
            "Resolving cdn-lfs-us-1.hf.co (cdn-lfs-us-1.hf.co)... 3.165.160.77, 3.165.160.20, 3.165.160.38, ...\n",
            "Connecting to cdn-lfs-us-1.hf.co (cdn-lfs-us-1.hf.co)|3.165.160.77|:443... connected.\n",
            "HTTP request sent, awaiting response... 200 OK\n",
            "Length: 670584506 (640M) [text/csv]\n",
            "Saving to: ‘dataset/train.csv’\n",
            "\n",
            "dataset/train.csv   100%[===================>] 639.52M  40.9MB/s    in 16s     \n",
            "\n",
            "2024-12-17 12:42:33 (40.7 MB/s) - ‘dataset/train.csv’ saved [670584506/670584506]\n",
            "\n",
            "--2024-12-17 12:42:33--  https://huggingface.co/datasets/aai530-group6/ddxplus/resolve/main/validate.csv\n",
            "Resolving huggingface.co (huggingface.co)... 3.165.160.61, 3.165.160.12, 3.165.160.59, ...\n",
            "Connecting to huggingface.co (huggingface.co)|3.165.160.61|:443... connected.\n",
            "HTTP request sent, awaiting response... 302 Found\n",
            "Location: https://cdn-lfs-us-1.hf.co/repos/3d/bf/3dbf1ec86c02d693ed39ac3d592b3fd0ea3c9e85890918306b3db431c821f0f7/b84733533bff01daa1d47d27a0cd4d684bb54a0fc20d80aaee1250ff8ff989ed?response-content-disposition=inline%3B+filename*%3DUTF-8%27%27validate.csv%3B+filename%3D%22validate.csv%22%3B&response-content-type=text%2Fcsv&Expires=1734698553&Policy=eyJTdGF0ZW1lbnQiOlt7IkNvbmRpdGlvbiI6eyJEYXRlTGVzc1RoYW4iOnsiQVdTOkVwb2NoVGltZSI6MTczNDY5ODU1M319LCJSZXNvdXJjZSI6Imh0dHBzOi8vY2RuLWxmcy11cy0xLmhmLmNvL3JlcG9zLzNkL2JmLzNkYmYxZWM4NmMwMmQ2OTNlZDM5YWMzZDU5MmIzZmQwZWEzYzllODU4OTA5MTgzMDZiM2RiNDMxYzgyMWYwZjcvYjg0NzMzNTMzYmZmMDFkYWExZDQ3ZDI3YTBjZDRkNjg0YmI1NGEwZmMyMGQ4MGFhZWUxMjUwZmY4ZmY5ODllZD9yZXNwb25zZS1jb250ZW50LWRpc3Bvc2l0aW9uPSomcmVzcG9uc2UtY29udGVudC10eXBlPSoifV19&Signature=C9AJ8R4bT27iwJlf5DFT50tkpgNLCD1S8vljSM1YP6kzfZgbpXK1k7FKKlARg4v5KcNnoS03%7EQGo3ea2u441OgoXnugg7IvXqThXnN%7EFFkobNhYDKWZVvtpvz1P15C2lhlsBMbz7WqCL5bumuMfWd759j0oPkYoWOLEVsdgSyY4ilui05gWmNSVVjEqAxV0msE68oXrPdUvVSSa717CRUCmWHuPXh-2bbZswqwUifmO4CUSdlazZf9yaVUNlsDixmpw9Zzgy3AJ4vTIESKRwL7-Ftix27pMOGQgnc3--jy0uIcNBLntwkUEbSy%7E1JAiH%7E1lsgtipc7kO7x5Fc2mFoA__&Key-Pair-Id=K24J24Z295AEI9 [following]\n",
            "--2024-12-17 12:42:33--  https://cdn-lfs-us-1.hf.co/repos/3d/bf/3dbf1ec86c02d693ed39ac3d592b3fd0ea3c9e85890918306b3db431c821f0f7/b84733533bff01daa1d47d27a0cd4d684bb54a0fc20d80aaee1250ff8ff989ed?response-content-disposition=inline%3B+filename*%3DUTF-8%27%27validate.csv%3B+filename%3D%22validate.csv%22%3B&response-content-type=text%2Fcsv&Expires=1734698553&Policy=eyJTdGF0ZW1lbnQiOlt7IkNvbmRpdGlvbiI6eyJEYXRlTGVzc1RoYW4iOnsiQVdTOkVwb2NoVGltZSI6MTczNDY5ODU1M319LCJSZXNvdXJjZSI6Imh0dHBzOi8vY2RuLWxmcy11cy0xLmhmLmNvL3JlcG9zLzNkL2JmLzNkYmYxZWM4NmMwMmQ2OTNlZDM5YWMzZDU5MmIzZmQwZWEzYzllODU4OTA5MTgzMDZiM2RiNDMxYzgyMWYwZjcvYjg0NzMzNTMzYmZmMDFkYWExZDQ3ZDI3YTBjZDRkNjg0YmI1NGEwZmMyMGQ4MGFhZWUxMjUwZmY4ZmY5ODllZD9yZXNwb25zZS1jb250ZW50LWRpc3Bvc2l0aW9uPSomcmVzcG9uc2UtY29udGVudC10eXBlPSoifV19&Signature=C9AJ8R4bT27iwJlf5DFT50tkpgNLCD1S8vljSM1YP6kzfZgbpXK1k7FKKlARg4v5KcNnoS03%7EQGo3ea2u441OgoXnugg7IvXqThXnN%7EFFkobNhYDKWZVvtpvz1P15C2lhlsBMbz7WqCL5bumuMfWd759j0oPkYoWOLEVsdgSyY4ilui05gWmNSVVjEqAxV0msE68oXrPdUvVSSa717CRUCmWHuPXh-2bbZswqwUifmO4CUSdlazZf9yaVUNlsDixmpw9Zzgy3AJ4vTIESKRwL7-Ftix27pMOGQgnc3--jy0uIcNBLntwkUEbSy%7E1JAiH%7E1lsgtipc7kO7x5Fc2mFoA__&Key-Pair-Id=K24J24Z295AEI9\n",
            "Resolving cdn-lfs-us-1.hf.co (cdn-lfs-us-1.hf.co)... 3.165.160.77, 3.165.160.20, 3.165.160.38, ...\n",
            "Connecting to cdn-lfs-us-1.hf.co (cdn-lfs-us-1.hf.co)|3.165.160.77|:443... connected.\n",
            "HTTP request sent, awaiting response... 200 OK\n",
            "Length: 87371169 (83M) [text/csv]\n",
            "Saving to: ‘dataset/validate.csv’\n",
            "\n",
            "dataset/validate.cs 100%[===================>]  83.32M  40.2MB/s    in 2.1s    \n",
            "\n",
            "2024-12-17 12:42:36 (40.2 MB/s) - ‘dataset/validate.csv’ saved [87371169/87371169]\n",
            "\n",
            "--2024-12-17 12:42:36--  https://huggingface.co/datasets/aai530-group6/ddxplus/resolve/main/test.csv\n",
            "Resolving huggingface.co (huggingface.co)... 3.165.160.59, 3.165.160.11, 3.165.160.61, ...\n",
            "Connecting to huggingface.co (huggingface.co)|3.165.160.59|:443... connected.\n",
            "HTTP request sent, awaiting response... 302 Found\n",
            "Location: https://cdn-lfs-us-1.hf.co/repos/3d/bf/3dbf1ec86c02d693ed39ac3d592b3fd0ea3c9e85890918306b3db431c821f0f7/f7ac3eae934c85780fc9b109a6cac5771540619a02690bee6fc0ab402baec186?response-content-disposition=inline%3B+filename*%3DUTF-8%27%27test.csv%3B+filename%3D%22test.csv%22%3B&response-content-type=text%2Fcsv&Expires=1734698556&Policy=eyJTdGF0ZW1lbnQiOlt7IkNvbmRpdGlvbiI6eyJEYXRlTGVzc1RoYW4iOnsiQVdTOkVwb2NoVGltZSI6MTczNDY5ODU1Nn19LCJSZXNvdXJjZSI6Imh0dHBzOi8vY2RuLWxmcy11cy0xLmhmLmNvL3JlcG9zLzNkL2JmLzNkYmYxZWM4NmMwMmQ2OTNlZDM5YWMzZDU5MmIzZmQwZWEzYzllODU4OTA5MTgzMDZiM2RiNDMxYzgyMWYwZjcvZjdhYzNlYWU5MzRjODU3ODBmYzliMTA5YTZjYWM1NzcxNTQwNjE5YTAyNjkwYmVlNmZjMGFiNDAyYmFlYzE4Nj9yZXNwb25zZS1jb250ZW50LWRpc3Bvc2l0aW9uPSomcmVzcG9uc2UtY29udGVudC10eXBlPSoifV19&Signature=dNmiiO8-nS3oNd-eXuNs7AEk2K1TaxpAOT%7EPaRb4KXD80HdubbGu2aIRjPAEGvvXWdo6wLULKkr1Bvg73vUomrTcD3ZB1jSIf9bzFOvx6sEdZgvWQM%7E2GA0caRXxkbFyo008GhcBwtQKxX5%7EAqFF-i3s2Nx-VeC7ny0132VIIb5LhBrVMhdyOErh1N4VIzitrWrw339qnfvaZfSi0bRm8lcSFeksVhPRqCf5oovCt8SkxIgJLdSlyyv4hGTQ%7E-OKBgYKlnfZd37Bk1npFFZrUVQJzNNIuGNDKzr0BZ2Y4BVxPFL2rZBnOns9konQKdpYeXY1bDL4P9-Hd0os0rZafA__&Key-Pair-Id=K24J24Z295AEI9 [following]\n",
            "--2024-12-17 12:42:36--  https://cdn-lfs-us-1.hf.co/repos/3d/bf/3dbf1ec86c02d693ed39ac3d592b3fd0ea3c9e85890918306b3db431c821f0f7/f7ac3eae934c85780fc9b109a6cac5771540619a02690bee6fc0ab402baec186?response-content-disposition=inline%3B+filename*%3DUTF-8%27%27test.csv%3B+filename%3D%22test.csv%22%3B&response-content-type=text%2Fcsv&Expires=1734698556&Policy=eyJTdGF0ZW1lbnQiOlt7IkNvbmRpdGlvbiI6eyJEYXRlTGVzc1RoYW4iOnsiQVdTOkVwb2NoVGltZSI6MTczNDY5ODU1Nn19LCJSZXNvdXJjZSI6Imh0dHBzOi8vY2RuLWxmcy11cy0xLmhmLmNvL3JlcG9zLzNkL2JmLzNkYmYxZWM4NmMwMmQ2OTNlZDM5YWMzZDU5MmIzZmQwZWEzYzllODU4OTA5MTgzMDZiM2RiNDMxYzgyMWYwZjcvZjdhYzNlYWU5MzRjODU3ODBmYzliMTA5YTZjYWM1NzcxNTQwNjE5YTAyNjkwYmVlNmZjMGFiNDAyYmFlYzE4Nj9yZXNwb25zZS1jb250ZW50LWRpc3Bvc2l0aW9uPSomcmVzcG9uc2UtY29udGVudC10eXBlPSoifV19&Signature=dNmiiO8-nS3oNd-eXuNs7AEk2K1TaxpAOT%7EPaRb4KXD80HdubbGu2aIRjPAEGvvXWdo6wLULKkr1Bvg73vUomrTcD3ZB1jSIf9bzFOvx6sEdZgvWQM%7E2GA0caRXxkbFyo008GhcBwtQKxX5%7EAqFF-i3s2Nx-VeC7ny0132VIIb5LhBrVMhdyOErh1N4VIzitrWrw339qnfvaZfSi0bRm8lcSFeksVhPRqCf5oovCt8SkxIgJLdSlyyv4hGTQ%7E-OKBgYKlnfZd37Bk1npFFZrUVQJzNNIuGNDKzr0BZ2Y4BVxPFL2rZBnOns9konQKdpYeXY1bDL4P9-Hd0os0rZafA__&Key-Pair-Id=K24J24Z295AEI9\n",
            "Resolving cdn-lfs-us-1.hf.co (cdn-lfs-us-1.hf.co)... 3.165.160.77, 3.165.160.20, 3.165.160.38, ...\n",
            "Connecting to cdn-lfs-us-1.hf.co (cdn-lfs-us-1.hf.co)|3.165.160.77|:443... connected.\n",
            "HTTP request sent, awaiting response... 200 OK\n",
            "Length: 88582473 (84M) [text/csv]\n",
            "Saving to: ‘dataset/test.csv’\n",
            "\n",
            "dataset/test.csv    100%[===================>]  84.48M  40.0MB/s    in 2.1s    \n",
            "\n",
            "2024-12-17 12:42:38 (40.0 MB/s) - ‘dataset/test.csv’ saved [88582473/88582473]\n",
            "\n"
          ]
        }
      ],
      "source": [
        "# Create the dataset directory\n",
        "!mkdir -p dataset\n",
        "\n",
        "# Download files into the dataset directory\n",
        "!wget -O dataset/train.csv https://huggingface.co/datasets/aai530-group6/ddxplus/resolve/main/train.csv\n",
        "!wget -O dataset/validate.csv https://huggingface.co/datasets/aai530-group6/ddxplus/resolve/main/validate.csv\n",
        "!wget -O dataset/test.csv https://huggingface.co/datasets/aai530-group6/ddxplus/resolve/main/test.csv\n"
      ]
    },
    {
      "cell_type": "code",
      "execution_count": null,
      "metadata": {
        "id": "hCp_27brTkry"
      },
      "outputs": [],
      "source": [
        "import pandas as pd\n",
        "import json\n",
        "\n",
        "def parse_evidences2(evidences, json_data):\n",
        "    \"\"\"\n",
        "    Parse evidences into meaningful text using JSON mappings and combine repeated questions' answers with &.\n",
        "    \"\"\"\n",
        "    parsed_antecedents = {}\n",
        "    parsed_symptoms = {}\n",
        "    for evidence in eval(evidences):  # Convert string list to actual list\n",
        "        if \"_@_\" in evidence:\n",
        "            code, value = evidence.split(\"_@_\")\n",
        "            question = json_data.get(code, {}).get('question_en', 'Unknown question')\n",
        "            value_meaning = json_data.get(code, {}).get('value_meaning', {}).get(value, {}).get('en', value)\n",
        "            is_antecedent = json_data.get(code, {}).get('is_antecedent', False)\n",
        "            target_dict = parsed_antecedents if is_antecedent else parsed_symptoms\n",
        "            if question in target_dict:\n",
        "                target_dict[question] += f\" & {value_meaning}\"\n",
        "            else:\n",
        "                target_dict[question] = value_meaning\n",
        "        else:\n",
        "            question = json_data.get(evidence, {}).get('question_en', 'Unknown question')\n",
        "            is_antecedent = json_data.get(evidence, {}).get('is_antecedent', False)\n",
        "            target_dict = parsed_antecedents if is_antecedent else parsed_symptoms\n",
        "            if question in target_dict:\n",
        "                target_dict[question] += \" & Y\"\n",
        "            else:\n",
        "                target_dict[question] = \"Y\"\n",
        "\n",
        "    antecedents = [f\"{q} - {a}\" for q, a in parsed_antecedents.items()]\n",
        "    symptoms = [f\"{q} - {a}\" for q, a in parsed_symptoms.items()]\n",
        "    return antecedents, symptoms\n",
        "\n",
        "def transform_data(csv_path, json_path, output_path):\n",
        "    \"\"\"\n",
        "    Transforms the CSV and JSON data into BioBERT-friendly format.\n",
        "    \"\"\"\n",
        "    # Load JSON and CSV files\n",
        "    with open(json_path, 'r') as file:\n",
        "        json_data = json.load(file)\n",
        "\n",
        "    csv_data = pd.read_csv(csv_path)\n",
        "\n",
        "    # Process each row in the CSV\n",
        "    formatted_data = []\n",
        "\n",
        "    for _, row in csv_data.iterrows():\n",
        "        patient_data = {\n",
        "            \"Age\": row['AGE'],\n",
        "            \"Sex\": row['SEX'],\n",
        "            \"Antecedents\": [],\n",
        "            \"Symptoms\": [],\n",
        "            \"Differential Diagnosis\": [],\n",
        "        }\n",
        "\n",
        "        # Parse evidences\n",
        "        antecedents, symptoms = parse_evidences2(row['EVIDENCES'], json_data)\n",
        "        patient_data[\"Antecedents\"].extend(antecedents)\n",
        "        patient_data[\"Symptoms\"].extend(symptoms)\n",
        "\n",
        "        # Parse differential diagnosis (exclude probabilities)\n",
        "        diagnoses = [diag[0] for diag in eval(row['DIFFERENTIAL_DIAGNOSIS'])]\n",
        "        patient_data[\"Differential Diagnosis\"] = diagnoses\n",
        "\n",
        "        formatted_data.append(patient_data)\n",
        "\n",
        "    # Save the formatted data to a JSON file\n",
        "    with open(output_path, 'w') as output_file:\n",
        "        json.dump(formatted_data, output_file, indent=4)\n",
        "\n",
        "task = \"val\"\n",
        "sample_size = 20000\n",
        "data = pd.read_csv(f'/content/ML-Project---bioBERT/dataset/{task}.csv')\n",
        "data.sample(n=sample_size).to_csv(f'/content/ML-Project---bioBERT/dataset_processed/csv/{task}_sample{sample_size}.csv', index=False)\n",
        "\n",
        "# Paths to input files and output location\n",
        "csv_path = f'/content/ML-Project---bioBERT/dataset_processed/csv/{task}_sample{sample_size}.csv'  # Replace with the actual CSV file path\n",
        "json_path = '/content/ML-Project---bioBERT/release_evidences_cleaned.json'  # Replace with the actual JSON file path\n",
        "output_path = f'/content/ML-Project---bioBERT/dataset_processed/json/{task}_sample{sample_size}.json'  # Desired output file name\n",
        "\n",
        "# Transform the data\n",
        "transform_data(csv_path, json_path, output_path)"
      ]
    },
    {
      "cell_type": "markdown",
      "metadata": {
        "id": "5Us_i-pmTmKK"
      },
      "source": [
        "# Train-Test bioBERT"
      ]
    },
    {
      "cell_type": "code",
      "execution_count": null,
      "metadata": {
        "colab": {
          "base_uri": "https://localhost:8080/"
        },
        "id": "RypvXSeoVlHy",
        "outputId": "4b2132e9-ffbd-4593-a55a-ab858520a214"
      },
      "outputs": [
        {
          "output_type": "stream",
          "name": "stdout",
          "text": [
            "/content\n"
          ]
        }
      ],
      "source": [
        "!pwd"
      ]
    },
    {
      "cell_type": "code",
      "execution_count": null,
      "metadata": {
        "colab": {
          "base_uri": "https://localhost:8080/"
        },
        "id": "eNFm6YYmPiyf",
        "outputId": "09e79028-8b15-4caa-bab6-f1eaa2b30304"
      },
      "outputs": [
        {
          "output_type": "stream",
          "name": "stdout",
          "text": [
            "/content/ML-Project---bioBERT\n"
          ]
        }
      ],
      "source": [
        "%cd '/content/ML-Project---bioBERT'"
      ]
    },
    {
      "cell_type": "code",
      "execution_count": null,
      "metadata": {
        "colab": {
          "base_uri": "https://localhost:8080/"
        },
        "id": "L0jWqeRBPmCP",
        "outputId": "d5282fcd-304c-4a31-8858-d3ef03bebf9c"
      },
      "outputs": [
        {
          "output_type": "stream",
          "name": "stdout",
          "text": [
            "2024-12-17 13:41:11.166635: E external/local_xla/xla/stream_executor/cuda/cuda_fft.cc:485] Unable to register cuFFT factory: Attempting to register factory for plugin cuFFT when one has already been registered\n",
            "2024-12-17 13:41:11.197352: E external/local_xla/xla/stream_executor/cuda/cuda_dnn.cc:8454] Unable to register cuDNN factory: Attempting to register factory for plugin cuDNN when one has already been registered\n",
            "2024-12-17 13:41:11.206718: E external/local_xla/xla/stream_executor/cuda/cuda_blas.cc:1452] Unable to register cuBLAS factory: Attempting to register factory for plugin cuBLAS when one has already been registered\n",
            "2024-12-17 13:41:12.752559: W tensorflow/compiler/tf2tensorrt/utils/py_utils.cc:38] TF-TRT Warning: Could not find TensorRT\n",
            "--- Train_Set ---\n",
            "Dataset Encoding:\n",
            "Number of samples: 5000\n",
            "Number of unique labels: 49\n",
            "\n",
            "--- Validation_Set ---\n",
            "Dataset Encoding:\n",
            "Number of samples: 2500\n",
            "Number of unique labels: 49\n",
            "\n",
            "Testing: 100% 313/313 [01:32<00:00,  3.37it/s]\n",
            "\n",
            "--- Evaluation Metrics ---\n",
            "Test Accuracy: 0.9523\n",
            "Test Hamming Loss: 0.0477\n",
            "\n",
            "--- Top-5 Predictions (First 5 Examples) ---\n",
            "Example 1:\n",
            "  Cluster headache: 0.4535999894142151\n",
            "  Anemia: 0.15080000460147858\n",
            "  Bronchitis: 0.07649999856948853\n",
            "  Chagas: 0.06480000168085098\n",
            "  Acute otitis media: 0.05640000104904175\n",
            "\n",
            "Example 2:\n",
            "  Possible NSTEMI / STEMI: 0.8689000010490417\n",
            "  Unstable angina: 0.6147000193595886\n",
            "  Stable angina: 0.579200029373169\n",
            "  Pericarditis: 0.4361000061035156\n",
            "  GERD: 0.4239000082015991\n",
            "\n",
            "Example 3:\n",
            "  Possible NSTEMI / STEMI: 0.5200999975204468\n",
            "  Unstable angina: 0.24449999630451202\n",
            "  Stable angina: 0.21889999508857727\n",
            "  Pulmonary embolism: 0.20419999957084656\n",
            "  Pericarditis: 0.08959999680519104\n",
            "\n",
            "Example 4:\n",
            "  Possible NSTEMI / STEMI: 0.6947000026702881\n",
            "  Unstable angina: 0.47870001196861267\n",
            "  Viral pharyngitis: 0.4691999852657318\n",
            "  Stable angina: 0.4325999915599823\n",
            "  Acute laryngitis: 0.31769999861717224\n",
            "\n",
            "Example 5:\n",
            "  Bronchitis: 0.45879998803138733\n",
            "  Acute dystonic reactions: 0.3407000005245209\n",
            "  Pulmonary embolism: 0.22200000286102295\n",
            "  Myocarditis: 0.1965000033378601\n",
            "  Guillain-Barré syndrome: 0.19419999420642853\n",
            "\n"
          ]
        }
      ],
      "source": [
        "!python bioBERT_finetune.py"
      ]
    },
    {
      "cell_type": "code",
      "execution_count": null,
      "metadata": {
        "colab": {
          "base_uri": "https://localhost:8080/"
        },
        "id": "QyRHfulOQmMt",
        "outputId": "3cf038b0-33a9-43a4-d597-8e9120ce6cae"
      },
      "outputs": [
        {
          "output_type": "stream",
          "name": "stdout",
          "text": [
            "Mounted at /content/drive\n"
          ]
        }
      ],
      "source": [
        "from google.colab import drive\n",
        "drive.mount('/content/drive')"
      ]
    },
    {
      "cell_type": "code",
      "execution_count": null,
      "metadata": {
        "id": "Y1Z_EB4IRF7J"
      },
      "outputs": [],
      "source": [
        "!cp -r '/content/drive/MyDrive/20k Samples' '.'"
      ]
    }
  ],
  "metadata": {
    "accelerator": "GPU",
    "colab": {
      "gpuType": "T4",
      "provenance": []
    },
    "kernelspec": {
      "display_name": "Python 3",
      "name": "python3"
    },
    "language_info": {
      "codemirror_mode": {
        "name": "ipython",
        "version": 3
      },
      "file_extension": ".py",
      "mimetype": "text/x-python",
      "name": "python",
      "nbconvert_exporter": "python",
      "pygments_lexer": "ipython3",
      "version": "3.12.7"
    }
  },
  "nbformat": 4,
  "nbformat_minor": 0
}