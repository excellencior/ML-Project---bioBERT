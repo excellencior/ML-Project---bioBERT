{
 "cells": [
  {
   "cell_type": "markdown",
   "metadata": {},
   "source": [
    "# Necessary Links\n",
    "---\n",
    "[Dataset Description](https://github.com/mila-iqia/ddxplus)"
   ]
  },
  {
   "cell_type": "markdown",
   "metadata": {},
   "source": [
    "# Imports\n",
    "---"
   ]
  },
  {
   "cell_type": "code",
   "execution_count": 2,
   "metadata": {},
   "outputs": [],
   "source": [
    "import pandas as pd"
   ]
  },
  {
   "cell_type": "markdown",
   "metadata": {},
   "source": [
    "# Downloads\n",
    "---"
   ]
  },
  {
   "cell_type": "code",
   "execution_count": null,
   "metadata": {},
   "outputs": [],
   "source": [
    "!wget 'https://huggingface.co/datasets/aai530-group6/ddxplus/resolve/main/release_evidences.json'"
   ]
  },
  {
   "cell_type": "code",
   "execution_count": null,
   "metadata": {},
   "outputs": [],
   "source": [
    "!wget 'https://huggingface.co/datasets/aai530-group6/ddxplus/resolve/main/validate.csv'"
   ]
  },
  {
   "cell_type": "markdown",
   "metadata": {},
   "source": [
    "# Preprocessing the Dataset suitable for bioBERT\n",
    "---\n",
    "{\"text\": \"Question: Characterize your pain. Answer: Burning.\", \"label\": [\"Acute Laryngitis\"]}\n"
   ]
  },
  {
   "cell_type": "code",
   "execution_count": null,
   "metadata": {},
   "outputs": [],
   "source": [
    "val_set = pd.read_csv('validate.csv', nrows=10)\n",
    "val_set"
   ]
  },
  {
   "cell_type": "code",
   "execution_count": null,
   "metadata": {},
   "outputs": [],
   "source": [
    "import json\n",
    "import ast\n",
    "\n",
    "# Load data from JSON files\n",
    "with open(\"patient_data.json\", \"r\") as patient_file:\n",
    "    patient_data = json.load(patient_file)\n",
    "\n",
    "with open(\"questionnaire.json\", \"r\") as questionnaire_file:\n",
    "    questionnaire = json.load(questionnaire_file)\n",
    "\n",
    "# Parse evidences from the patient data\n",
    "evidences = ast.literal_eval(patient_data[\"EVIDENCES\"])  # Safely parse the evidence list\n",
    "parsed_evidences = []\n",
    "\n",
    "# Match evidence with the questionnaire\n",
    "for evidence in evidences:\n",
    "    if \"_@_\" in evidence:\n",
    "        code, value = evidence.split(\"_@_\")\n",
    "        if code in questionnaire:\n",
    "            question = questionnaire[code].get(\"question_en\", \"Unknown question\")\n",
    "            value_meaning = questionnaire[code].get(\"value_meaning\", {}).get(value, \"Unknown\")\n",
    "            parsed_evidences.append(f\"{question} {value_meaning}.\")\n",
    "    else:\n",
    "        parsed_evidences.append(f\"Evidence code: {evidence}.\")\n",
    "\n",
    "# Combine all parsed information into a BioBERT-compatible input format\n",
    "bioBERT_input = {\n",
    "    \"AGE\": patient_data[\"AGE\"],\n",
    "    \"SEX\": patient_data[\"SEX\"],\n",
    "    \"DIFFERENTIAL_DIAGNOSIS\": ast.literal_eval(patient_data[\"DIFFERENTIAL_DIAGNOSIS\"]),\n",
    "    \"TEXT\": \" \".join(parsed_evidences),\n",
    "    \"LABEL\": patient_data[\"PATHOLOGY\"]\n",
    "}\n",
    "\n",
    "# Save the data to a TSV file for BioBERT\n",
    "output_file = \"bioBERT_input.tsv\"\n",
    "with open(output_file, \"w\") as f:\n",
    "    f.write(\"TEXT\\tLABEL\\n\")\n",
    "    f.write(f\"{bioBERT_input['TEXT']}\\t{bioBERT_input['LABEL']}\\n\")\n",
    "\n",
    "# Print the processed BioBERT input for verification\n",
    "print(\"Processed BioBERT input:\")\n",
    "print(json.dumps(bioBERT_input, indent=4))\n"
   ]
  },
  {
   "cell_type": "markdown",
   "metadata": {},
   "source": [
    "# Fine Tuning bioBERT\n",
    "---"
   ]
  },
  {
   "cell_type": "markdown",
   "metadata": {},
   "source": [
    "## TRAIN"
   ]
  },
  {
   "cell_type": "code",
   "execution_count": null,
   "metadata": {},
   "outputs": [],
   "source": [
    "from transformers import AutoTokenizer, AutoModelForSequenceClassification\n",
    "\n",
    "tokenizer = AutoTokenizer.from_pretrained(\"dmis-lab/biobert-base-cased-v1.1\")\n",
    "model = AutoModelForSequenceClassification.from_pretrained(\n",
    "    \"dmis-lab/biobert-base-cased-v1.1\", num_labels=num_conditions\n",
    ")\n",
    "\n",
    "# Tokenize input data\n",
    "inputs = tokenizer([\"Question: Characterize your pain. Answer: Exhausting.\"],\n",
    "                   padding=True, truncation=True, return_tensors=\"pt\")\n",
    "\n",
    "# Train the model (simplified)\n",
    "outputs = model(**inputs, labels=torch.tensor([label]))\n",
    "loss = outputs.loss\n"
   ]
  },
  {
   "cell_type": "markdown",
   "metadata": {},
   "source": [
    "# PREDICT"
   ]
  },
  {
   "cell_type": "code",
   "execution_count": null,
   "metadata": {},
   "outputs": [],
   "source": [
    "inputs = tokenizer([\"Question: Characterize your pain. Answer: Burning.\"],\n",
    "                   padding=True, truncation=True, return_tensors=\"pt\")\n",
    "predictions = model(**inputs).logits\n",
    "predicted_label = torch.argmax(predictions, dim=1)"
   ]
  }
 ],
 "metadata": {
  "kernelspec": {
   "display_name": "ml",
   "language": "python",
   "name": "python3"
  },
  "language_info": {
   "codemirror_mode": {
    "name": "ipython",
    "version": 3
   },
   "file_extension": ".py",
   "mimetype": "text/x-python",
   "name": "python",
   "nbconvert_exporter": "python",
   "pygments_lexer": "ipython3",
   "version": "3.12.7"
  }
 },
 "nbformat": 4,
 "nbformat_minor": 2
}
